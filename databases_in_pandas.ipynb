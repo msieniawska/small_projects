{
 "cells": [
  {
   "cell_type": "markdown",
   "metadata": {},
   "source": [
    "# 1. What percentage of customers pick up their orders at a different postcode from where they live?\n",
    "\n",
    "First we will read customers_zip.csv and delivery_zip.csv files into data frame."
   ]
  },
  {
   "cell_type": "code",
   "execution_count": 1,
   "metadata": {},
   "outputs": [
    {
     "name": "stdout",
     "output_type": "stream",
     "text": [
      "         customer_id  zip_cust\n",
      "0         77461851.0   39435.0\n",
      "1         37934116.0   92635.0\n",
      "2         39770481.0   61090.0\n",
      "3         50298765.0   40516.0\n",
      "4         23383753.0   85367.0\n",
      "...              ...       ...\n",
      "1064030    7614400.0   37754.0\n",
      "1064031   38064713.0   40550.0\n",
      "1064032   55151857.0   27493.0\n",
      "1064033   72477424.0   91501.0\n",
      "1064034   34343239.0   16103.0\n",
      "\n",
      "[1064035 rows x 2 columns]\n",
      "         customer_id  zip_del\n",
      "0         77461851.0  55685.0\n",
      "1         37934116.0  36236.0\n",
      "2         39770481.0      NaN\n",
      "3         50298765.0  78823.0\n",
      "4         23383753.0  75757.0\n",
      "...              ...      ...\n",
      "1701447   22997615.0  18863.0\n",
      "1701448   22997615.0  22874.0\n",
      "1701449   52840571.0  56465.0\n",
      "1701450   52840571.0  56162.0\n",
      "1701451          NaN      NaN\n",
      "\n",
      "[1701452 rows x 2 columns]\n"
     ]
    }
   ],
   "source": [
    "import pandas as pd\n",
    "import numpy as np\n",
    "\n",
    "df_customers_zip = pd.read_csv('customers_zip.csv', usecols = [1, 2])#, nrows = 1000)\n",
    "df_delivery_zip = pd.read_csv('delivery_zip.csv', usecols = [1, 2])#, nrows = 1000)\n",
    "print(df_customers_zip)\n",
    "print(df_delivery_zip)"
   ]
  },
  {
   "cell_type": "markdown",
   "metadata": {},
   "source": [
    "Let us remove rows with NaN values and then merge these two dataframes with respect to the customer_id."
   ]
  },
  {
   "cell_type": "code",
   "execution_count": 2,
   "metadata": {},
   "outputs": [
    {
     "name": "stdout",
     "output_type": "stream",
     "text": [
      "         customer_id  zip_cust\n",
      "0         77461851.0   39435.0\n",
      "1         37934116.0   92635.0\n",
      "2         39770481.0   61090.0\n",
      "3         50298765.0   40516.0\n",
      "4         23383753.0   85367.0\n",
      "...              ...       ...\n",
      "1064029    7614400.0   37754.0\n",
      "1064030   38064713.0   40550.0\n",
      "1064031   55151857.0   27493.0\n",
      "1064032   72477424.0   91501.0\n",
      "1064033   34343239.0   16103.0\n",
      "\n",
      "[1064034 rows x 2 columns]\n",
      "         customer_id  zip_del\n",
      "0         77461851.0  55685.0\n",
      "1         37934116.0  36236.0\n",
      "2         50298765.0  78823.0\n",
      "3         23383753.0  75757.0\n",
      "4          2789905.0  87986.0\n",
      "...              ...      ...\n",
      "1651087   39250750.0  22157.0\n",
      "1651088   22997615.0  18863.0\n",
      "1651089   22997615.0  22874.0\n",
      "1651090   52840571.0  56465.0\n",
      "1651091   52840571.0  56162.0\n",
      "\n",
      "[1651092 rows x 2 columns]\n"
     ]
    }
   ],
   "source": [
    "df_customers_zip = df_customers_zip.dropna().reset_index(drop=True)\n",
    "df_delivery_zip = df_delivery_zip.dropna().reset_index(drop=True)\n",
    "print(df_customers_zip)\n",
    "print(df_delivery_zip)"
   ]
  },
  {
   "cell_type": "code",
   "execution_count": 3,
   "metadata": {},
   "outputs": [
    {
     "name": "stdout",
     "output_type": "stream",
     "text": [
      "         customer_id  zip_cust  zip_del\n",
      "0         77461851.0   39435.0  55685.0\n",
      "1         37934116.0   92635.0  36236.0\n",
      "2         50298765.0   40516.0  78823.0\n",
      "3         23383753.0   85367.0  75757.0\n",
      "4          2789905.0   93737.0  87986.0\n",
      "...              ...       ...      ...\n",
      "1653822   39250750.0   10631.0  22157.0\n",
      "1653823   22997615.0   18863.0  18863.0\n",
      "1653824   22997615.0   18863.0  22874.0\n",
      "1653825   52840571.0   56465.0  56465.0\n",
      "1653826   52840571.0   56465.0  56162.0\n",
      "\n",
      "[1653827 rows x 3 columns]\n"
     ]
    }
   ],
   "source": [
    "result1 = pd.merge(df_customers_zip, df_delivery_zip, on = [\"customer_id\", \"customer_id\"])\n",
    "result1 = result1.dropna().reset_index(drop=True)\n",
    "print(result1)"
   ]
  },
  {
   "cell_type": "markdown",
   "metadata": {},
   "source": [
    "We will add new column where '0' denotes different zip_cust and zip_del and '1' for the same values"
   ]
  },
  {
   "cell_type": "code",
   "execution_count": 4,
   "metadata": {},
   "outputs": [
    {
     "name": "stdout",
     "output_type": "stream",
     "text": [
      "         customer_id  zip_cust  zip_del  new\n",
      "0         77461851.0   39435.0  55685.0    0\n",
      "1         37934116.0   92635.0  36236.0    0\n",
      "2         50298765.0   40516.0  78823.0    0\n",
      "3         23383753.0   85367.0  75757.0    0\n",
      "4          2789905.0   93737.0  87986.0    0\n",
      "...              ...       ...      ...  ...\n",
      "1653822   39250750.0   10631.0  22157.0    0\n",
      "1653823   22997615.0   18863.0  18863.0    1\n",
      "1653824   22997615.0   18863.0  22874.0    0\n",
      "1653825   52840571.0   56465.0  56465.0    1\n",
      "1653826   52840571.0   56465.0  56162.0    0\n",
      "\n",
      "[1653827 rows x 4 columns]\n"
     ]
    }
   ],
   "source": [
    "result1['new'] = np.where((result1['zip_cust'] == result1['zip_del']), 1, 0)\n",
    "print(result1)"
   ]
  },
  {
   "cell_type": "markdown",
   "metadata": {},
   "source": [
    "Note that sometimes customer_id repeats: that can mean that sometimes the same customer orders packages to the same address that he/she lives and sometimes somewhere else.\n",
    "\n",
    "And we will count how many '0' and '1' is in the last column:"
   ]
  },
  {
   "cell_type": "code",
   "execution_count": 5,
   "metadata": {},
   "outputs": [
    {
     "name": "stdout",
     "output_type": "stream",
     "text": [
      "0    1013072\n",
      "1     640755\n",
      "Name: new, dtype: int64\n"
     ]
    }
   ],
   "source": [
    "ratio = result1['new'].value_counts()\n",
    "print(ratio)"
   ]
  },
  {
   "cell_type": "markdown",
   "metadata": {},
   "source": [
    "And now we will calculate ratio of '0' to all orders:"
   ]
  },
  {
   "cell_type": "code",
   "execution_count": 6,
   "metadata": {},
   "outputs": [
    {
     "name": "stdout",
     "output_type": "stream",
     "text": [
      "Percentage of customers pick up their orders at a different postcode from where they live: 61.26%\n"
     ]
    }
   ],
   "source": [
    "x = ratio[0]/(ratio[1] + ratio[0]) * 100.0\n",
    "print(f'Percentage of customers pick up their orders at a different postcode from where they live: {x:.2f}%')"
   ]
  },
  {
   "cell_type": "markdown",
   "metadata": {},
   "source": [
    "For the end let us free memory:"
   ]
  },
  {
   "cell_type": "code",
   "execution_count": 7,
   "metadata": {},
   "outputs": [],
   "source": [
    "del df_customers_zip\n",
    "del df_delivery_zip\n",
    "del result1"
   ]
  },
  {
   "cell_type": "markdown",
   "metadata": {},
   "source": [
    "# 2. What sport is the most and least popular among customers?"
   ]
  },
  {
   "cell_type": "markdown",
   "metadata": {},
   "source": [
    "Now we will need a file called sports_csv. Let us read it into a dataframe:"
   ]
  },
  {
   "cell_type": "code",
   "execution_count": 8,
   "metadata": {},
   "outputs": [
    {
     "name": "stdout",
     "output_type": "stream",
     "text": [
      "         customer_id        sport\n",
      "0         77461851.0     p3ywanie\n",
      "1         37934116.0    myolistwo\n",
      "2         39770481.0   3ucznictwo\n",
      "3         50298765.0   nurkowanie\n",
      "4         23383753.0   3ucznictwo\n",
      "...              ...          ...\n",
      "1189742   70183840.0   nurkowanie\n",
      "1189743   39250750.0  jeYdziectwo\n",
      "1189744   22997615.0    myolistwo\n",
      "1189745   52840571.0   nurkowanie\n",
      "1189746          NaN          NaN\n",
      "\n",
      "[1189747 rows x 2 columns]\n"
     ]
    }
   ],
   "source": [
    "df_sports = pd.read_csv('sports.csv', usecols = [1, 2]) #, nrows = 1000)\n",
    "print(df_sports)"
   ]
  },
  {
   "cell_type": "markdown",
   "metadata": {},
   "source": [
    "We can count how many times different sports appear in the last column:"
   ]
  },
  {
   "cell_type": "code",
   "execution_count": 9,
   "metadata": {},
   "outputs": [
    {
     "name": "stdout",
     "output_type": "stream",
     "text": [
      "p3ywanie       274855\n",
      "3ucznictwo     222829\n",
      "nurkowanie     211743\n",
      "myolistwo      180655\n",
      "jeYdziectwo     63640\n",
      "bieganie        53111\n",
      "rowery          43038\n",
      "karate          21695\n",
      "aquafitness     21566\n",
      "judo            21476\n",
      "snowboard       21472\n",
      "chodzenie       21423\n",
      "hokej           21409\n",
      "myslistwo       10834\n",
      "Name: sport, dtype: int64\n"
     ]
    }
   ],
   "source": [
    "sports_count = df_sports['sport'].value_counts()\n",
    "print(sports_count)"
   ]
  },
  {
   "cell_type": "markdown",
   "metadata": {},
   "source": [
    "We see that the most popular sport is 'pływanie' and the least popular one is 'myślistwo'."
   ]
  },
  {
   "cell_type": "markdown",
   "metadata": {},
   "source": [
    "# 3. How many customers do more than 2 sports?\n",
    "\n",
    "Again we will use the same dataframe with sports. We can check how many customer_id appears more than 2 times in the above dataframe: first, we will count how many times each customer_id appears, then we will limit this value only to the customer_id that appears more than 2 times."
   ]
  },
  {
   "cell_type": "code",
   "execution_count": 10,
   "metadata": {},
   "outputs": [
    {
     "name": "stdout",
     "output_type": "stream",
     "text": [
      "5040\n",
      "0.4751556747634828\n"
     ]
    }
   ],
   "source": [
    "vc = df_sports.customer_id.value_counts()\n",
    "print(len(vc[vc > 2]))\n",
    "#print(len(vc))\n",
    "print(100*len(vc[vc > 2])/len(vc))"
   ]
  },
  {
   "cell_type": "markdown",
   "metadata": {},
   "source": [
    "# 4. What is the average order value?\n",
    "\n",
    "Here we will need orders.csv file:"
   ]
  },
  {
   "cell_type": "code",
   "execution_count": 11,
   "metadata": {},
   "outputs": [
    {
     "name": "stdout",
     "output_type": "stream",
     "text": [
      "           order_id   value\n",
      "0        82168832.0  240.29\n",
      "1        38300086.0  730.12\n",
      "2        70629629.0  145.04\n",
      "3        81244871.0  472.24\n",
      "4        88005542.0  354.54\n",
      "...             ...     ...\n",
      "4003976  46861536.0  220.30\n",
      "4003977  73308696.0  208.33\n",
      "4003978  80131863.0  628.98\n",
      "4003979  82066694.0  139.71\n",
      "4003980  76207670.0  726.36\n",
      "\n",
      "[4003981 rows x 2 columns]\n"
     ]
    }
   ],
   "source": [
    "df_orders = pd.read_csv('orders.csv', usecols = [1, 2]) #, nrows = 1000)\n",
    "df_orders = df_orders.dropna().reset_index(drop=True)\n",
    "print(df_orders)"
   ]
  },
  {
   "cell_type": "markdown",
   "metadata": {},
   "source": [
    "We simply need to caclulate average of the 2nd column:"
   ]
  },
  {
   "cell_type": "code",
   "execution_count": 12,
   "metadata": {},
   "outputs": [],
   "source": [
    "mean_val = df_orders[\"value\"].mean()\n",
    "median_val = df_orders[\"value\"].median()"
   ]
  },
  {
   "cell_type": "code",
   "execution_count": 13,
   "metadata": {},
   "outputs": [
    {
     "name": "stdout",
     "output_type": "stream",
     "text": [
      "Average order value: 25396.01 and median: 405.00.\n"
     ]
    }
   ],
   "source": [
    "print(f'Average order value: {mean_val:.2f} and median: {median_val:.2f}.')"
   ]
  },
  {
   "cell_type": "markdown",
   "metadata": {},
   "source": [
    "# 5. What is the average order value of equestrian customers?\n",
    "\n",
    "Here we will need both dataframes: with sports (df_sports) and orders (df_orders) - we read these data in the previous steps. We need to select only customers that do horse riding ('jeździectwo' in sport column of df_sports), select their customer_id, then only for these customers select their orders (we will need another file, customer_orders.csv) that will give us selected order_id and for these order_id calculate the average value of orders."
   ]
  },
  {
   "cell_type": "code",
   "execution_count": 14,
   "metadata": {},
   "outputs": [
    {
     "name": "stdout",
     "output_type": "stream",
     "text": [
      "         customer_id    order_id\n",
      "0         77461851.0  82168832.0\n",
      "1         37934116.0  38300086.0\n",
      "2         39770481.0  70629629.0\n",
      "3         50298765.0  81244871.0\n",
      "4         23383753.0  88005542.0\n",
      "...              ...         ...\n",
      "4003958   22997615.0  91722929.0\n",
      "4003959   22997615.0  76578060.0\n",
      "4003960   52840571.0  48208738.0\n",
      "4003961   52840571.0  11830182.0\n",
      "4003962   52840571.0  73524810.0\n",
      "\n",
      "[4003963 rows x 2 columns]\n"
     ]
    }
   ],
   "source": [
    "df_customer_orders = pd.read_csv('customer_orders.csv', usecols = [1, 2]) #, nrows = 1000)\n",
    "df_customer_orders = df_customer_orders.dropna().reset_index(drop=True)\n",
    "print(df_customer_orders)"
   ]
  },
  {
   "cell_type": "code",
   "execution_count": 15,
   "metadata": {},
   "outputs": [
    {
     "name": "stdout",
     "output_type": "stream",
     "text": [
      "         customer_id        sport\n",
      "31         5775704.0  jeYdziectwo\n",
      "35        59147471.0  jeYdziectwo\n",
      "40        32683424.0  jeYdziectwo\n",
      "56         3206085.0  jeYdziectwo\n",
      "128       44476885.0  jeYdziectwo\n",
      "...              ...          ...\n",
      "1189627   40382952.0  jeYdziectwo\n",
      "1189664   17137022.0  jeYdziectwo\n",
      "1189693   44042989.0  jeYdziectwo\n",
      "1189712   81723809.0  jeYdziectwo\n",
      "1189743   39250750.0  jeYdziectwo\n",
      "\n",
      "[63640 rows x 2 columns]\n"
     ]
    }
   ],
   "source": [
    "df_sports_short = df_sports.loc[df_sports['sport'] == 'jeYdziectwo']\n",
    "print(df_sports_short)"
   ]
  },
  {
   "cell_type": "code",
   "execution_count": 16,
   "metadata": {},
   "outputs": [
    {
     "name": "stdout",
     "output_type": "stream",
     "text": [
      "        customer_id    order_id\n",
      "0         5775704.0  62291544.0\n",
      "1        59147471.0  58231221.0\n",
      "2        32683424.0  26934331.0\n",
      "3         3206085.0  71869961.0\n",
      "4        44476885.0  35020342.0\n",
      "...             ...         ...\n",
      "240517   81723809.0  23151667.0\n",
      "240518   81723809.0  23808176.0\n",
      "240519   39250750.0  38057329.0\n",
      "240520   39250750.0  35460508.0\n",
      "240521   39250750.0  10957224.0\n",
      "\n",
      "[240522 rows x 2 columns]\n"
     ]
    }
   ],
   "source": [
    "result2 = pd.merge(df_sports_short, df_customer_orders, on = [\"customer_id\", \"customer_id\"])\n",
    "result2.drop('sport', axis = 1, inplace=True)\n",
    "print(result2)"
   ]
  },
  {
   "cell_type": "code",
   "execution_count": 17,
   "metadata": {},
   "outputs": [
    {
     "name": "stdout",
     "output_type": "stream",
     "text": [
      "        customer_id    order_id   value\n",
      "0         5775704.0  62291544.0  759.98\n",
      "1        59147471.0  58231221.0  685.78\n",
      "2        32683424.0  26934331.0   46.16\n",
      "3         3206085.0  71869961.0  771.86\n",
      "4        44476885.0  35020342.0  233.66\n",
      "...             ...         ...     ...\n",
      "240517   81723809.0  23151667.0  594.17\n",
      "240518   81723809.0  23808176.0  650.55\n",
      "240519   39250750.0  38057329.0   50.62\n",
      "240520   39250750.0  35460508.0  648.91\n",
      "240521   39250750.0  10957224.0   67.77\n",
      "\n",
      "[240522 rows x 3 columns]\n"
     ]
    }
   ],
   "source": [
    "result3 = pd.merge(result2, df_orders, on = [\"order_id\", \"order_id\"])\n",
    "print(result3)"
   ]
  },
  {
   "cell_type": "markdown",
   "metadata": {},
   "source": [
    "Now we have a dataframe, named result3, that contains only data of the horse-riding customers (their customer_id, order_id and value). Now we can calculate average of the last column:"
   ]
  },
  {
   "cell_type": "code",
   "execution_count": 18,
   "metadata": {},
   "outputs": [
    {
     "name": "stdout",
     "output_type": "stream",
     "text": [
      "Average order value (only equestrian customers): 26017.40 and median: 406.89.\n"
     ]
    }
   ],
   "source": [
    "mean_val = result3[\"value\"].mean()\n",
    "median_val = result3[\"value\"].median()\n",
    "print(f'Average order value (only equestrian customers): {mean_val:.2f} and median: {median_val:.2f}.')"
   ]
  },
  {
   "cell_type": "code",
   "execution_count": null,
   "metadata": {},
   "outputs": [],
   "source": []
  },
  {
   "cell_type": "code",
   "execution_count": null,
   "metadata": {},
   "outputs": [],
   "source": []
  }
 ],
 "metadata": {
  "kernelspec": {
   "display_name": "Python 3",
   "language": "python",
   "name": "python3"
  },
  "language_info": {
   "codemirror_mode": {
    "name": "ipython",
    "version": 3
   },
   "file_extension": ".py",
   "mimetype": "text/x-python",
   "name": "python",
   "nbconvert_exporter": "python",
   "pygments_lexer": "ipython3",
   "version": "3.8.1"
  }
 },
 "nbformat": 4,
 "nbformat_minor": 4
}
